{
 "cells": [
  {
   "cell_type": "markdown",
   "id": "6a20371c-8a15-4878-bb19-1a7a1df4158f",
   "metadata": {},
   "source": [
    "# Meu primeiro código"
   ]
  },
  {
   "cell_type": "code",
   "execution_count": null,
   "id": "965e93d4-a9a0-425a-b2eb-57dda3b83d3d",
   "metadata": {},
   "outputs": [],
   "source": [
    "print (\"I'm happy\")"
   ]
  }
 ],
 "metadata": {
  "kernelspec": {
   "display_name": "Python 3",
   "language": "python",
   "name": "python3"
  },
  "language_info": {
   "codemirror_mode": {
    "name": "ipython",
    "version": 3
   },
   "file_extension": ".py",
   "mimetype": "text/x-python",
   "name": "python",
   "nbconvert_exporter": "python",
   "pygments_lexer": "ipython3",
   "version": "3.13.3"
  }
 },
 "nbformat": 4,
 "nbformat_minor": 5
}
